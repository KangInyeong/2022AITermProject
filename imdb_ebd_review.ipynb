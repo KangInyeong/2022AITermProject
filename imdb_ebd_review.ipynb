{
 "cells": [
  {
   "cell_type": "code",
   "execution_count": 1,
   "id": "3f340091-4233-434a-a57c-484fdf3e7131",
   "metadata": {},
   "outputs": [
    {
     "name": "stdout",
     "output_type": "stream",
     "text": [
      "Warning: Your Kaggle API key is readable by other users on this system! To fix this, you can run 'chmod 600 /home/jupyter/.kaggle/kaggle.json'\n",
      "Downloading imdb-review-dataset.zip to /home/jupyter\n",
      " 99%|██████████████████████████████████████▋| 2.67G/2.69G [00:21<00:00, 134MB/s]\n",
      "100%|███████████████████████████████████████| 2.69G/2.69G [00:21<00:00, 132MB/s]\n"
     ]
    }
   ],
   "source": [
    "!kaggle datasets download -d ebiswas/imdb-review-dataset"
   ]
  },
  {
   "cell_type": "code",
   "execution_count": 2,
   "id": "a417de10-2875-46f5-ad59-c3c803b44c57",
   "metadata": {},
   "outputs": [],
   "source": [
    "path_to_zip_file = '/home/jupyter/imdb-review-dataset.zip'\n",
    "directory_to_extract_to = '/home/jupyter/dataset'\n",
    "\n",
    "import zipfile\n",
    "with zipfile.ZipFile(path_to_zip_file, 'r') as zip_ref:\n",
    "    zip_ref.extractall(directory_to_extract_to)"
   ]
  },
  {
   "cell_type": "code",
   "execution_count": 8,
   "id": "bb12f059-c203-4849-9061-acfe02150772",
   "metadata": {},
   "outputs": [],
   "source": [
    "# Import dependencies\n",
    "import json # reading in source file\n",
    "import re # regular expressions\n",
    "import time\n",
    "import pandas as pd"
   ]
  },
  {
   "cell_type": "code",
   "execution_count": 10,
   "id": "b3dc33f3-9eea-4a83-a96d-df71ba922810",
   "metadata": {},
   "outputs": [
    {
     "name": "stdout",
     "output_type": "stream",
     "text": [
      "Starting load of part-01.json...\n",
      "Finished load of part-01.json at 18.81 total seconds elapsed\n",
      "Starting load of part-02.json...\n",
      "Finished load of part-02.json at 37.87 total seconds elapsed\n",
      "Loading complete after 37.87 seconds, 2,022,505 items in reviews_json\n",
      "Total reviews in the working data: 2,022,505\n"
     ]
    }
   ],
   "source": [
    "# Load data into dataframe\n",
    "dataDir = \"/home/jupyter/dataset/\" \n",
    "files_to_load = [\"part-01.json\", \"part-02.json\"]\n",
    "reviews_json = list()\n",
    "\n",
    "startTime = time.time()\n",
    "for current_file in files_to_load:\n",
    "    print(f\"Starting load of {current_file}...\")\n",
    "    with open(f\"{dataDir}/{current_file}\", mode='r') as file:\n",
    "        new_reviews = json.load(file)\n",
    "        for review in new_reviews:\n",
    "            reviews_json.append(review)\n",
    "    print(f\"Finished load of {current_file} at {time.time() - startTime:.2f} total seconds elapsed\")\n",
    "print(f\"Loading complete after {time.time() - startTime:.2f} seconds, {len(reviews_json):,} items in reviews_json\")\n",
    "\n",
    "reviews_total_count = len(reviews_json)\n",
    "print(f\"Total reviews in the working data: {reviews_total_count:,}\")\n",
    "\n",
    "# Convert list of dicts to pandas dataframe\n",
    "reviews_df_raw = pd.DataFrame(reviews_json)"
   ]
  },
  {
   "cell_type": "code",
   "execution_count": 12,
   "id": "81d53602-83cf-4155-8c20-41953a3bdb09",
   "metadata": {},
   "outputs": [
    {
     "data": {
      "text/plain": [
       "2022505"
      ]
     },
     "execution_count": 12,
     "metadata": {},
     "output_type": "execute_result"
    }
   ],
   "source": [
    "len(reviews_df_raw['movie'])"
   ]
  },
  {
   "cell_type": "code",
   "execution_count": 13,
   "id": "6cc8568b-87df-4b7e-87d7-b8425f53b419",
   "metadata": {},
   "outputs": [
    {
     "data": {
      "text/plain": [
       "254886"
      ]
     },
     "execution_count": 13,
     "metadata": {},
     "output_type": "execute_result"
    }
   ],
   "source": [
    "len(set(reviews_df_raw['movie']))"
   ]
  },
  {
   "cell_type": "code",
   "execution_count": 3,
   "id": "97ac52ab-6b8c-42ab-807c-eba5812c0531",
   "metadata": {},
   "outputs": [],
   "source": [
    "import json # reading in source file\n",
    "import pandas as pd"
   ]
  },
  {
   "cell_type": "code",
   "execution_count": 6,
   "id": "1c6479a8-a6db-459f-95f8-3cb53c07d8ef",
   "metadata": {},
   "outputs": [
    {
     "ename": "AttributeError",
     "evalue": "'list' object has no attribute 'read'",
     "output_type": "error",
     "traceback": [
      "\u001b[0;31m---------------------------------------------------------------------------\u001b[0m",
      "\u001b[0;31mAttributeError\u001b[0m                            Traceback (most recent call last)",
      "\u001b[0;32m/tmp/ipykernel_13842/2715665767.py\u001b[0m in \u001b[0;36m<module>\u001b[0;34m\u001b[0m\n\u001b[1;32m      2\u001b[0m \u001b[0;32mwith\u001b[0m \u001b[0mopen\u001b[0m\u001b[0;34m(\u001b[0m\u001b[0;34mf\"{current_file}\"\u001b[0m\u001b[0;34m,\u001b[0m \u001b[0mmode\u001b[0m\u001b[0;34m=\u001b[0m\u001b[0;34m'r'\u001b[0m\u001b[0;34m)\u001b[0m \u001b[0;32mas\u001b[0m \u001b[0mfile\u001b[0m\u001b[0;34m:\u001b[0m\u001b[0;34m\u001b[0m\u001b[0;34m\u001b[0m\u001b[0m\n\u001b[1;32m      3\u001b[0m     \u001b[0mnew_reviews\u001b[0m \u001b[0;34m=\u001b[0m \u001b[0mjson\u001b[0m\u001b[0;34m.\u001b[0m\u001b[0mload\u001b[0m\u001b[0;34m(\u001b[0m\u001b[0mfile\u001b[0m\u001b[0;34m)\u001b[0m\u001b[0;34m\u001b[0m\u001b[0;34m\u001b[0m\u001b[0m\n\u001b[0;32m----> 4\u001b[0;31m     \u001b[0mjsonstr\u001b[0m \u001b[0;34m=\u001b[0m \u001b[0mjson\u001b[0m\u001b[0;34m.\u001b[0m\u001b[0mload\u001b[0m\u001b[0;34m(\u001b[0m\u001b[0mnew_reviews\u001b[0m\u001b[0;34m)\u001b[0m\u001b[0;34m\u001b[0m\u001b[0;34m\u001b[0m\u001b[0m\n\u001b[0m\u001b[1;32m      5\u001b[0m     \u001b[0mdf\u001b[0m \u001b[0;34m=\u001b[0m \u001b[0mpd\u001b[0m\u001b[0;34m.\u001b[0m\u001b[0mread_json\u001b[0m\u001b[0;34m(\u001b[0m\u001b[0mjsonstr\u001b[0m\u001b[0;34m,\u001b[0m \u001b[0morient\u001b[0m \u001b[0;34m=\u001b[0m \u001b[0;34m'index'\u001b[0m\u001b[0;34m)\u001b[0m\u001b[0;34m\u001b[0m\u001b[0;34m\u001b[0m\u001b[0m\n",
      "\u001b[0;32m/opt/conda/lib/python3.7/json/__init__.py\u001b[0m in \u001b[0;36mload\u001b[0;34m(fp, cls, object_hook, parse_float, parse_int, parse_constant, object_pairs_hook, **kw)\u001b[0m\n\u001b[1;32m    291\u001b[0m     \u001b[0mkwarg\u001b[0m\u001b[0;34m;\u001b[0m \u001b[0motherwise\u001b[0m\u001b[0;31m \u001b[0m\u001b[0;31m`\u001b[0m\u001b[0;31m`\u001b[0m\u001b[0mJSONDecoder\u001b[0m\u001b[0;31m`\u001b[0m\u001b[0;31m`\u001b[0m \u001b[0;32mis\u001b[0m \u001b[0mused\u001b[0m\u001b[0;34m.\u001b[0m\u001b[0;34m\u001b[0m\u001b[0;34m\u001b[0m\u001b[0m\n\u001b[1;32m    292\u001b[0m     \"\"\"\n\u001b[0;32m--> 293\u001b[0;31m     return loads(fp.read(),\n\u001b[0m\u001b[1;32m    294\u001b[0m         \u001b[0mcls\u001b[0m\u001b[0;34m=\u001b[0m\u001b[0mcls\u001b[0m\u001b[0;34m,\u001b[0m \u001b[0mobject_hook\u001b[0m\u001b[0;34m=\u001b[0m\u001b[0mobject_hook\u001b[0m\u001b[0;34m,\u001b[0m\u001b[0;34m\u001b[0m\u001b[0;34m\u001b[0m\u001b[0m\n\u001b[1;32m    295\u001b[0m         \u001b[0mparse_float\u001b[0m\u001b[0;34m=\u001b[0m\u001b[0mparse_float\u001b[0m\u001b[0;34m,\u001b[0m \u001b[0mparse_int\u001b[0m\u001b[0;34m=\u001b[0m\u001b[0mparse_int\u001b[0m\u001b[0;34m,\u001b[0m\u001b[0;34m\u001b[0m\u001b[0;34m\u001b[0m\u001b[0m\n",
      "\u001b[0;31mAttributeError\u001b[0m: 'list' object has no attribute 'read'"
     ]
    }
   ],
   "source": [
    "current_file = \"/home/jupyter/dataset/part-01.json\" \n",
    "with open(f\"{current_file}\", mode='r') as file:\n",
    "    new_reviews = json.load(file)\n",
    "    jsonstr = json.load(new_reviews)\n",
    "    df = pd.read_json(jsonstr, orient = 'index')"
   ]
  },
  {
   "cell_type": "code",
   "execution_count": null,
   "id": "de02125b-ade8-4075-b7cf-3f041bb3f939",
   "metadata": {},
   "outputs": [],
   "source": [
    "current_file = \"/home/jupyter/dataset/part-01.json\" \n",
    "with open(f\"{current_file}\", mode='r') as file:\n",
    "    \n",
    "    jsonstr = json.load(file)\n",
    "    dict = json.loads(jsonstr)\n",
    "    df = json_normalize(dict)"
   ]
  },
  {
   "cell_type": "code",
   "execution_count": null,
   "id": "df518fa5-8e8f-460d-80d6-0a2fc6d7997a",
   "metadata": {},
   "outputs": [],
   "source": [
    "print(df[:10])"
   ]
  }
 ],
 "metadata": {
  "environment": {
   "kernel": "python3",
   "name": "tf2-gpu.2-8.m100",
   "type": "gcloud",
   "uri": "gcr.io/deeplearning-platform-release/tf2-gpu.2-8:m100"
  },
  "kernelspec": {
   "display_name": "Python 3",
   "language": "python",
   "name": "python3"
  },
  "language_info": {
   "codemirror_mode": {
    "name": "ipython",
    "version": 3
   },
   "file_extension": ".py",
   "mimetype": "text/x-python",
   "name": "python",
   "nbconvert_exporter": "python",
   "pygments_lexer": "ipython3",
   "version": "3.7.12"
  }
 },
 "nbformat": 4,
 "nbformat_minor": 5
}
