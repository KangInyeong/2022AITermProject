{
 "cells": [
  {
   "cell_type": "markdown",
   "id": "4eac2761-89e0-404c-98a3-a3f5b1243468",
   "metadata": {},
   "source": [
    "# Kaggle에서 MBTI 데이터 가져오기"
   ]
  },
  {
   "cell_type": "code",
   "execution_count": 1,
   "id": "342b742f-0c6d-4bdb-9ba1-e2a57109a39f",
   "metadata": {},
   "outputs": [
    {
     "name": "stdout",
     "output_type": "stream",
     "text": [
      "Collecting package metadata (current_repodata.json): done\n",
      "Solving environment: done\n",
      "\n",
      "# All requested packages already installed.\n",
      "\n",
      "Retrieving notices: ...working... done\n",
      "\n",
      "Note: you may need to restart the kernel to use updated packages.\n"
     ]
    }
   ],
   "source": [
    "conda install -c conda-forge kaggle"
   ]
  },
  {
   "cell_type": "code",
   "execution_count": 2,
   "id": "60cbe532-dee6-45ec-b149-2138e67ae9a0",
   "metadata": {},
   "outputs": [
    {
     "name": "stdout",
     "output_type": "stream",
     "text": [
      "Collecting package metadata (current_repodata.json): done\n",
      "Solving environment: done\n",
      "\n",
      "# All requested packages already installed.\n",
      "\n",
      "Retrieving notices: ...working... done\n",
      "\n",
      "Note: you may need to restart the kernel to use updated packages.\n"
     ]
    }
   ],
   "source": [
    "conda install kaggle"
   ]
  },
  {
   "cell_type": "code",
   "execution_count": 4,
   "id": "6ba7037a-099c-49ea-8249-80c038429fbd",
   "metadata": {},
   "outputs": [
    {
     "name": "stdout",
     "output_type": "stream",
     "text": [
      "Requirement already satisfied: kaggle in /opt/conda/lib/python3.7/site-packages (1.5.12)\n",
      "Requirement already satisfied: python-dateutil in /opt/conda/lib/python3.7/site-packages (from kaggle) (2.8.2)\n",
      "Requirement already satisfied: six>=1.10 in /opt/conda/lib/python3.7/site-packages (from kaggle) (1.16.0)\n",
      "Requirement already satisfied: urllib3 in /opt/conda/lib/python3.7/site-packages (from kaggle) (1.26.11)\n",
      "Requirement already satisfied: certifi in /opt/conda/lib/python3.7/site-packages (from kaggle) (2022.9.24)\n",
      "Requirement already satisfied: tqdm in /opt/conda/lib/python3.7/site-packages (from kaggle) (4.64.1)\n",
      "Requirement already satisfied: requests in /opt/conda/lib/python3.7/site-packages (from kaggle) (2.28.1)\n",
      "Requirement already satisfied: python-slugify in /opt/conda/lib/python3.7/site-packages (from kaggle) (6.1.2)\n",
      "Requirement already satisfied: text-unidecode>=1.3 in /opt/conda/lib/python3.7/site-packages (from python-slugify->kaggle) (1.3)\n",
      "Requirement already satisfied: charset-normalizer<3,>=2 in /opt/conda/lib/python3.7/site-packages (from requests->kaggle) (2.1.1)\n",
      "Requirement already satisfied: idna<4,>=2.5 in /opt/conda/lib/python3.7/site-packages (from requests->kaggle) (3.4)\n"
     ]
    }
   ],
   "source": [
    "!pip install kaggle"
   ]
  },
  {
   "cell_type": "code",
   "execution_count": 5,
   "id": "7c11a35d-c66f-4fde-8261-c7719ce0c9e8",
   "metadata": {},
   "outputs": [
    {
     "name": "stdout",
     "output_type": "stream",
     "text": [
      "Name: kaggle\n",
      "Version: 1.5.12\n",
      "Summary: Kaggle API\n",
      "Home-page: https://github.com/Kaggle/kaggle-api\n",
      "Author: Kaggle\n",
      "Author-email: support@kaggle.com\n",
      "License: Apache 2.0\n",
      "Location: /opt/conda/lib/python3.7/site-packages\n",
      "Requires: certifi, python-dateutil, python-slugify, requests, six, tqdm, urllib3\n",
      "Required-by: \n"
     ]
    }
   ],
   "source": [
    "!pip show kaggle"
   ]
  },
  {
   "cell_type": "code",
   "execution_count": 7,
   "id": "0171f357-c883-4c79-a3c0-fec853232dfb",
   "metadata": {},
   "outputs": [
    {
     "name": "stdout",
     "output_type": "stream",
     "text": [
      "Warning: Your Kaggle API key is readable by other users on this system! To fix this, you can run 'chmod 600 /home/jupyter/.kaggle/kaggle.json'\n",
      "usage: kaggle config [-h] {view,set,unset} ...\n",
      "kaggle config: error: argument command: invalid choice: 'path' (choose from 'view', 'set', 'unset')\n"
     ]
    }
   ],
   "source": [
    "!kaggle config path"
   ]
  },
  {
   "cell_type": "code",
   "execution_count": 9,
   "id": "e3cc798d-ad1b-426e-9951-f8cc72825ec9",
   "metadata": {},
   "outputs": [
    {
     "name": "stdout",
     "output_type": "stream",
     "text": [
      "Warning: Your Kaggle API key is readable by other users on this system! To fix this, you can run 'chmod 600 /home/jupyter/.kaggle/kaggle.json'\n",
      "ref                                             deadline             category            reward  teamCount  userHasEntered  \n",
      "----------------------------------------------  -------------------  ---------------  ---------  ---------  --------------  \n",
      "contradictory-my-dear-watson                    2030-07-01 23:59:00  Getting Started     Prizes         57           False  \n",
      "gan-getting-started                             2030-07-01 23:59:00  Getting Started     Prizes         83            True  \n",
      "store-sales-time-series-forecasting             2030-06-30 23:59:00  Getting Started  Knowledge        598           False  \n",
      "tpu-getting-started                             2030-06-03 23:59:00  Getting Started  Knowledge        117           False  \n",
      "digit-recognizer                                2030-01-01 00:00:00  Getting Started  Knowledge       1346           False  \n",
      "titanic                                         2030-01-01 00:00:00  Getting Started  Knowledge      14660           False  \n",
      "house-prices-advanced-regression-techniques     2030-01-01 00:00:00  Getting Started  Knowledge       4288           False  \n",
      "connectx                                        2030-01-01 00:00:00  Getting Started  Knowledge        205           False  \n",
      "nlp-getting-started                             2030-01-01 00:00:00  Getting Started  Knowledge        879           False  \n",
      "spaceship-titanic                               2030-01-01 00:00:00  Getting Started  Knowledge       2178           False  \n",
      "otto-recommender-system                         2023-01-31 23:59:00  Featured           $30,000        342            True  \n",
      "nfl-big-data-bowl-2023                          2023-01-09 23:59:00  Analytics         $100,000          0           False  \n",
      "g2net-detecting-continuous-gravitational-waves  2023-01-03 23:59:00  Research           $25,000        501           False  \n",
      "novozymes-enzyme-stability-prediction           2023-01-03 23:59:00  Featured           $25,000       1235           False  \n",
      "competitive-data-science-predict-future-sales   2022-12-31 23:59:00  Playground           Kudos      15703           False  \n",
      "dfl-bundesliga-data-shootout                    2022-12-20 23:59:00  Featured           $25,000        530           False  \n",
      "scrabble-player-rating                          2022-12-15 23:59:00  Playground           Kudos         53           False  \n",
      "lux-ai-2022-beta                                2022-12-06 23:59:00  Playground            Swag         32           False  \n",
      "tabular-playground-series-nov-2022              2022-11-30 23:59:00  Playground            Swag        327           False  \n",
      "feedback-prize-english-language-learning        2022-11-29 23:59:00  Featured           $55,000       2269           False  \n"
     ]
    }
   ],
   "source": [
    "!kaggle competitions list"
   ]
  },
  {
   "cell_type": "code",
   "execution_count": 10,
   "id": "f3deb8dc-4a1e-4433-b57d-0dcfd30ebcfd",
   "metadata": {},
   "outputs": [
    {
     "name": "stdout",
     "output_type": "stream",
     "text": [
      "Warning: Your Kaggle API key is readable by other users on this system! To fix this, you can run 'chmod 600 /home/jupyter/.kaggle/kaggle.json'\n",
      "ref                                                             title                                            size  lastUpdated          downloadCount  voteCount  usabilityRating  \n",
      "--------------------------------------------------------------  ----------------------------------------------  -----  -------------------  -------------  ---------  ---------------  \n",
      "akshaydattatraykhare/diabetes-dataset                           Diabetes Dataset                                  9KB  2022-10-06 08:55:25          11119        350  1.0              \n",
      "whenamancodes/covid-19-coronavirus-pandemic-dataset             COVID -19 Coronavirus Pandemic Dataset           11KB  2022-09-30 04:05:11           8859        283  1.0              \n",
      "stetsondone/video-game-sales-by-genre                           Video Game Sales by Genre                        12KB  2022-10-31 17:56:01            795         23  1.0              \n",
      "whenamancodes/credit-card-customers-prediction                  Credit Card Customers Prediction                379KB  2022-10-30 13:03:27           1378         39  1.0              \n",
      "whenamancodes/students-performance-in-exams                     Students Performance in Exams                     9KB  2022-09-14 15:14:54          15327        285  1.0              \n",
      "akshaydattatraykhare/data-for-admission-in-the-university       Data for Admission in the University              4KB  2022-10-27 11:05:45           1911         45  1.0              \n",
      "michaelbryantds/electric-vehicle-charging-dataset               Electric Vehicle Charging Dataset                98KB  2022-11-02 01:45:23            647         34  0.9411765        \n",
      "maharshipandya/-spotify-tracks-dataset                          🎹 Spotify Tracks Dataset                          8MB  2022-10-22 14:40:15           2205         71  1.0              \n",
      "hasibalmuzdadid/global-air-pollution-dataset                    Global Air Pollution Dataset                    371KB  2022-11-08 14:43:32           1124         43  1.0              \n",
      "whenamancodes/amazon-reviews-on-women-dresses                   Amazon Reviews on Women Dresses                   3MB  2022-10-29 12:47:06            524         32  1.0              \n",
      "akshaydattatraykhare/car-details-dataset                        Car Details Dataset                              56KB  2022-10-21 06:11:56           2694         46  1.0              \n",
      "whenamancodes/international-football-from-1872-to-2022          International Football from 1872 to 2022        572KB  2022-10-30 13:27:29            637         28  0.9411765        \n",
      "whenamancodes/customer-personality-analysis                     Company's Ideal Customers | Marketing Strategy   62KB  2022-10-30 14:17:42            920         31  1.0              \n",
      "dimitryzub/walmart-coffee-listings-from-500-stores              Walmart Coffee Listings from 500 stores          85KB  2022-10-25 09:20:12           1273         41  1.0              \n",
      "dheerajmukati/most-runs-in-cricket                              Most Runs in International cricket                4KB  2022-10-16 16:49:20            683         32  1.0              \n",
      "thedevastator/food-prices-year-by-year                          Global Food Prices Year By Year                   7KB  2022-10-30 08:49:55            904         31  1.0              \n",
      "saikumartamminana/gold-price-prediction                         Gold Price Prediction                            41KB  2022-10-30 19:07:30            962         24  0.8235294        \n",
      "thedevastator/udemy-courses-revenue-generation-and-course-anal  Udemy Courses                                   429KB  2022-10-17 00:11:53           1918         57  1.0              \n",
      "whenamancodes/adidas-us-retail-products-dataset                 Adidas US Retail Products Dataset               286KB  2022-10-26 15:44:20            726         33  1.0              \n",
      "jainilcoder/online-payment-fraud-detection                      Online Payment Fraud Detection                  178MB  2022-10-26 12:35:46           1073         38  0.9705882        \n"
     ]
    }
   ],
   "source": [
    "!kaggle datasets list"
   ]
  },
  {
   "cell_type": "code",
   "execution_count": 11,
   "id": "158d0e95-0de7-4150-9a62-abb847c1eb1d",
   "metadata": {},
   "outputs": [
    {
     "name": "stdout",
     "output_type": "stream",
     "text": [
      "Warning: Your Kaggle API key is readable by other users on this system! To fix this, you can run 'chmod 600 /home/jupyter/.kaggle/kaggle.json'\n",
      "Downloading mbti-type.zip to /home/jupyter\n",
      " 86%|█████████████████████████████████▌     | 21.0M/24.4M [00:00<00:00, 108MB/s]\n",
      "100%|███████████████████████████████████████| 24.4M/24.4M [00:00<00:00, 108MB/s]\n"
     ]
    }
   ],
   "source": [
    "!kaggle datasets download -d datasnaek/mbti-type"
   ]
  }
 ],
 "metadata": {
  "environment": {
   "kernel": "python3",
   "name": "tf2-gpu.2-8.m100",
   "type": "gcloud",
   "uri": "gcr.io/deeplearning-platform-release/tf2-gpu.2-8:m100"
  },
  "kernelspec": {
   "display_name": "Python 3",
   "language": "python",
   "name": "python3"
  },
  "language_info": {
   "codemirror_mode": {
    "name": "ipython",
    "version": 3
   },
   "file_extension": ".py",
   "mimetype": "text/x-python",
   "name": "python",
   "nbconvert_exporter": "python",
   "pygments_lexer": "ipython3",
   "version": "3.7.12"
  }
 },
 "nbformat": 4,
 "nbformat_minor": 5
}
